{
 "cells": [
  {
   "cell_type": "markdown",
   "metadata": {},
   "source": [
    "# Data scraping\n",
    "\n",
    "Images for various terms are scraped from Google Images. The aim is to cover as many motifs as possible that could appear on digitized slides. An existing, larger data set could also have been used, but I opted for this approach in order to have more control over the data and to have a more challenging task. The search terms were mostly generated with ChatGPT."
   ]
  },
  {
   "cell_type": "markdown",
   "metadata": {},
   "source": [
    "### Imports"
   ]
  },
  {
   "cell_type": "code",
   "execution_count": 1,
   "metadata": {},
   "outputs": [],
   "source": [
    "import os\n",
    "import requests\n",
    "from bs4 import BeautifulSoup"
   ]
  },
  {
   "cell_type": "markdown",
   "metadata": {},
   "source": [
    "### Scraping"
   ]
  },
  {
   "cell_type": "code",
   "execution_count": 2,
   "metadata": {},
   "outputs": [
    {
     "name": "stdout",
     "output_type": "stream",
     "text": [
      "Pictures downloaded successfully.\n"
     ]
    }
   ],
   "source": [
    "search_terms = [\n",
    "    \"landscape\", \"forest\", \"mountain\", \"beach\", \"river\", \"sunset\", \"desert\", \"village\", \"lake\", \"waterfall\", \"airport\", \"harbor\",\n",
    "    \"skyscraper\", \"bridge\", \"street\", \"house\", \"monuments\", \"church\", \"castle\", \"ruins\", \"lighthouse\", \"tunnel\", \"building\", \"bar\", \"stadium\"\n",
    "    \"flower\", \"tree\", \"fruit\", \"vegetable\", \"diving\", \"letters\", \"architecture\",\n",
    "    \"bedroom\", \"living room\", \"kitchen\", \"bathroom\", \"office\", \"library\", \"classroom\", \"gym\", \"apartment interior\",\n",
    "    \"dog\", \"cat\", \"bird\", \"horse\", \"wildlife\", \"animals\", \"pets\",\n",
    "    \"portrait\", \"family photos\", \"children playing\", \"people at work\", \"crowds\", \"concert\", \"wedding\", \"protest\", \"people\"\n",
    "    \"computer\", \"chair\", \"table\", \"bed\", \"band\", \"book\", \"newspaper\", \"party\", \"birthday\", \"christmas\",\n",
    "    \"vacation photos\", \"travel photography\", \"sports\", \"swimming\", \"hiking\", \"winter sports\", \"football\", \"basketball\", \"tennis\", \"golf\", \"hockey\", \"surfing\",\n",
    "    \"sculpture\", \"musical instrument\", \"museums\", \"theaters\",\"drawings\", \"military\",\n",
    "    \"car\", \"bicycle\", \"boat\", \"airplane\", \"train\", \"furniture\", \"kitchen appliances\", \"books\",\n",
    "    \"food\", \"drinks\", \"restaurant\", \"cooking\", \"baking\", \"picnic\", \"store\", \"hotel\", \"hospital\", \"school\", \"factory\", \"construction site\", \"farm\", \"Public transportation\", \n",
    "    \"sunrise\", \"supermarket\", \"tradition\", \"marked\", \"sightseeing\", \"tourist attractions\", \"landmarks\", \"historical sites\", \"zoo\", \"park\", \"camping\" \n",
    "]\n",
    "\n",
    "\n",
    "headers = {'User-Agent': 'Mozilla/5.0 (Windows NT 10.0; Win64; x64) AppleWebKit/537.36 (KHTML, like Gecko) Chrome/58.0.3029.110 Safari/537.3'}\n",
    "\n",
    "for term in search_terms:\n",
    "    url = f'https://www.google.com/search?q={term}&tbm=isch'\n",
    "    html = requests.get(url, headers=headers).text\n",
    "    soup = BeautifulSoup(html, 'html.parser')\n",
    "\n",
    "    # find 20 images per search term\n",
    "    images = soup.find_all('img')[1:21]  # Skip the first image, which is the Google logo\n",
    "\n",
    "    for i, image in enumerate(images):\n",
    "        image_url = image['src']\n",
    "        \n",
    "        # download and save the image\n",
    "        response = requests.get(image_url)\n",
    "        if response.status_code == 200:\n",
    "            with open(f'../data/raw/{term}_{i+1}.jpg', 'wb') as f:\n",
    "                f.write(response.content)\n",
    "        else:\n",
    "            print(f\"Could not download image {i+1} for search term '{term}'.\")\n",
    "\n",
    "print(\"Pictures downloaded successfully.\")"
   ]
  }
 ],
 "metadata": {
  "kernelspec": {
   "display_name": ".venv",
   "language": "python",
   "name": "python3"
  },
  "language_info": {
   "codemirror_mode": {
    "name": "ipython",
    "version": 3
   },
   "file_extension": ".py",
   "mimetype": "text/x-python",
   "name": "python",
   "nbconvert_exporter": "python",
   "pygments_lexer": "ipython3",
   "version": "3.10.11"
  }
 },
 "nbformat": 4,
 "nbformat_minor": 2
}
